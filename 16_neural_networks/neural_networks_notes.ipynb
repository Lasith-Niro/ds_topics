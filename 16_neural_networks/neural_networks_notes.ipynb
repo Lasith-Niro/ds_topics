{
 "cells": [
  {
   "cell_type": "markdown",
   "metadata": {},
   "source": [
    "Neural Networks\n",
    "\n",
    "1) Neural Network Parameters\n",
    "* **Learning rate**\n",
    "* **Number of hidden layers**\n",
    "* **Number of neurons on hidden layers**\n",
    "* **Initialization of weights**\n",
    "    * don't set weights to 0, instead set sample weights as normal centered around 0\n",
    "* **Scaling**\n",
    "* **Epoch / batches**\n",
    "    * **Epoch** - a single sweep through all of the data\n",
    "    * example: if you have 100,000 observations, and a batch size of 100. Then, each epoch will consist of 1,000 gradient descent update steps\n",
    "* **Activation functions**\n",
    "    1. Tanh\n",
    "    2. Sigmoid\n",
    "    3. Softmax\n",
    "    4. ReLu ($max(0,x)$)"
   ]
  },
  {
   "cell_type": "markdown",
   "metadata": {},
   "source": [
    "2) Types of Network Neural Architecture\n",
    "1. **Fully Connected Network** - architecture where each layer is *fully connected* to next and has no missing edges between nodes\n",
    "\n",
    "2. **Recurrent Neural Networks (RNN)**\n",
    "3. **Convolutional Neural Networks (CNN)**"
   ]
  },
  {
   "cell_type": "code",
   "execution_count": null,
   "metadata": {
    "collapsed": true
   },
   "outputs": [],
   "source": []
  }
 ],
 "metadata": {
  "kernelspec": {
   "display_name": "Python [Root]",
   "language": "python",
   "name": "Python [Root]"
  },
  "language_info": {
   "codemirror_mode": {
    "name": "ipython",
    "version": 2
   },
   "file_extension": ".py",
   "mimetype": "text/x-python",
   "name": "python",
   "nbconvert_exporter": "python",
   "pygments_lexer": "ipython2",
   "version": "2.7.13"
  }
 },
 "nbformat": 4,
 "nbformat_minor": 0
}
