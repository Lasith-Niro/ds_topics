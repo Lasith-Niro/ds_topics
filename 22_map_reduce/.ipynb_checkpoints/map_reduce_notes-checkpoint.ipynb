{
 "cells": [
  {
   "cell_type": "markdown",
   "metadata": {},
   "source": [
    "Map Reduce\n",
    "\n",
    "* Objectives:\n",
    "    * What is \"Big Data\" and why is it important?\n",
    "    * How do distributed filesystems and processing work?\n",
    "    * Describe distributed systems architecture\n",
    "    * What is Hadoop HDFS?\n",
    "    * How does MapReduce work?"
   ]
  },
  {
   "cell_type": "markdown",
   "metadata": {},
   "source": [
    "1) Criteria For \"Big Data\" - Big data is high volume, high velocity, and/or high variety information assets that require new forms of processing to enable enhanced decision making, insight discovery and process optimization\n",
    "* **High Volume** - Data so large that it can't be worked with on a single computer\n",
    "* **High Velocity** - Data input/output too quick for it to be processed by a single computer\n",
    "* **High Variety** - Data in many different, disparately or not at all, structured formats (e.g. text, log file, video, etc.) "
   ]
  },
  {
   "cell_type": "code",
   "execution_count": null,
   "metadata": {
    "collapsed": true
   },
   "outputs": [],
   "source": []
  }
 ],
 "metadata": {
  "anaconda-cloud": {},
  "kernelspec": {
   "display_name": "Python [Root]",
   "language": "python",
   "name": "Python [Root]"
  },
  "language_info": {
   "codemirror_mode": {
    "name": "ipython",
    "version": 2
   },
   "file_extension": ".py",
   "mimetype": "text/x-python",
   "name": "python",
   "nbconvert_exporter": "python",
   "pygments_lexer": "ipython2",
   "version": "2.7.13"
  }
 },
 "nbformat": 4,
 "nbformat_minor": 0
}
