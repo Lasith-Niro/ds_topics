{
 "cells": [
  {
   "cell_type": "markdown",
   "metadata": {},
   "source": [
    "### Probability"
   ]
  },
  {
   "cell_type": "code",
   "execution_count": 2,
   "metadata": {
    "collapsed": false
   },
   "outputs": [
    {
     "data": {
      "text/plain": [
       "1.2999999999999998"
      ]
     },
     "execution_count": 2,
     "metadata": {},
     "output_type": "execute_result"
    }
   ],
   "source": [
    "# Topic: Probability Theory\n",
    "# Question: Let A and B be events on the same sample space, with P(A) = 0.6 and P(B) = 0.7. Can these two events be disjoint?\n",
    "# What does disjoint mean? means the two events don't intersect\n",
    "P_A = 0.6\n",
    "P_B = 0.7\n",
    "P_A + P_B\n",
    "\n",
    "# Answer: No, since the total probability must be 1, and P(A) + P(B) is greater than 1, then they must have some intersection"
   ]
  },
  {
   "cell_type": "code",
   "execution_count": 3,
   "metadata": {
    "collapsed": false
   },
   "outputs": [
    {
     "name": "stdout",
     "output_type": "stream",
     "text": [
      "3\n"
     ]
    }
   ],
   "source": [
    "# Question: Alice has 2 kids and one of them is a girl. What is the probability that the other child is also a girl? You can assume that there are an equal number of males and females in the world.\n",
    "# Outcome space for two kids: {BB, GG, GB, BG}\n",
    "# Can only eliminate BB (not BG since the girl can be the first child or the second child) \n",
    "\n",
    "from math import factorial\n",
    "def perm(n, k):\n",
    "    return factorial(n) / factorial(n-k)\n",
    "print int(perm(3,1))\n",
    "\n",
    "# 1 / {GG,GB,BG} = 1/3\n",
    "# {GG,GB,BG} -> 3_P_1 = 3\n",
    "# Answer: 1/3"
   ]
  },
  {
   "cell_type": "code",
   "execution_count": 17,
   "metadata": {
    "collapsed": false
   },
   "outputs": [
    {
     "name": "stdout",
     "output_type": "stream",
     "text": [
      "0.000258564964447\n"
     ]
    }
   ],
   "source": [
    "# Question: Anita randomly picks 4 cards from a deck of 52-cards and places them back into the deck ( Any set of 4 cards is equally likely ). Then, Babita randomly chooses 8 cards out of the same deck ( Any set of 8 cards is equally likely). Assume that the choice of 4 cards by Anita and the choice of 8 cards by Babita are independent. What is the probability that all 4 cards chosen by Anita are in the set of 8 cards chosen by Babita?\n",
    "\n",
    "from math import factorial\n",
    "def comb(n, k):\n",
    "    return factorial(n) / (factorial(k) * factorial(n-k))\n",
    "\n",
    "print float(int(comb(52,4)) * int(comb(48,4))) / (int(comb(52,4)) * int(comb(52,8)))"
   ]
  },
  {
   "cell_type": "code",
   "execution_count": 4,
   "metadata": {
    "collapsed": true
   },
   "outputs": [],
   "source": [
    "# Question: A fair six-sided die is rolled twice. What is the probability of getting 2 on the first roll and not getting 4 on the second roll?\n",
    "# The two events are independent (the first dice roll is independent of the second dice roll) -> the probabilities can be directly multiplied\n",
    "# P(dice) = 1/6\n",
    "# P(2) = 1/6\n",
    "# P(not 4) = 5/6\n",
    "# P(get 2 on first and not 4 on second) = P(2) * P(not 4) = 1/6 * 5/6 = 5/36\n",
    "\n",
    "# Answer: 5/36"
   ]
  },
  {
   "cell_type": "code",
   "execution_count": 11,
   "metadata": {
    "collapsed": true
   },
   "outputs": [],
   "source": [
    "# Question: Is this equation correct? P(A U B U C) = P(C) + P(A \\cap C^c) + P(B \\cap A^c \\cap C^c)\n",
    "# P(A \\cap C^c) = P(only A) since P(C^c) is all events other than P(C) and only P(A) intersects that\n",
    "# P(B \\cap A^c \\cap C^c) = P(only B) with the same logic as above\n",
    "# P(C) + P(only B) + P(only A) = P(A U B U C)\n",
    "# Answer: True"
   ]
  },
  {
   "cell_type": "code",
   "execution_count": 12,
   "metadata": {
    "collapsed": false
   },
   "outputs": [
    {
     "name": "stdout",
     "output_type": "stream",
     "text": [
      "16\n"
     ]
    }
   ],
   "source": [
    "# Question: Consider a tetrahedral die and roll it twice. What is the probability that the number on the first roll is strictly higher than the number on the second roll? A tetrahedral die has only four sides (1, 2, 3 and 4). \n",
    "# 4 * 4 = 16 permutations\n",
    "print int(perm(4,1)) * int(perm(4,1))\n",
    "# {11,22,33,44} = 4\n",
    "# {43,42,41,32,31,21} = 6\n",
    "# {12,13,14,23,24,34} = 6\n",
    "# make possible permutation table:\n",
    "# (1,1) ... (4,1)\n",
    "#  ...       ...\n",
    "# (1,4) ... (4,4)\n",
    "# Answer: 6/16 = 3/8"
   ]
  },
  {
   "cell_type": "markdown",
   "metadata": {},
   "source": [
    "### Probability Distributions"
   ]
  },
  {
   "cell_type": "code",
   "execution_count": 13,
   "metadata": {
    "collapsed": true
   },
   "outputs": [],
   "source": [
    "# Probability distribution describes specific random processes\n",
    "# Example: You have a process that behaves like X, what distribution would you use to model that process?\n",
    "# Examples of random processes that can be modeled:\n",
    "    # Single coin flip turns out to be heads\n",
    "    # Number of coin flips out of 100 that turn out of to be heads\n",
    "    # Number of trials until coin flip turns out to be heads\n",
    "    # Urn with two types of marbles (red and green) and draw marbles without replacement\n",
    "    # Number of taxis passing a street corner in a given hour (on avg 10/hr)\n",
    "    # Rolling a single fair die\n",
    "    # IQ score\n",
    "    # Time until taxi will pass street corner\n",
    "    # Useful in estimating success\n",
    "    # Time until n events in a process with no memory\n",
    "    # Useful for Goodness of Fit tests\n",
    "    # Useful for null distribution of a test statistic, analysis of variance (ANOVA) or F-test"
   ]
  },
  {
   "cell_type": "code",
   "execution_count": 14,
   "metadata": {
    "collapsed": false
   },
   "outputs": [
    {
     "name": "stdout",
     "output_type": "stream",
     "text": [
      "probability of 0 heads in 2 coin flips: 0.25\n",
      "probability of 1 heads in 2 coin flips: 0.5\n",
      "probability of 2 heads in 2 coin flips: 0.25\n",
      "expected value: 1.0\n",
      "binomial expectation: 1.0\n",
      "variance: 0.5\n",
      "binomial variance: 0.5\n"
     ]
    }
   ],
   "source": [
    "from math import factorial\n",
    "# number of coin flips out of 2 (or n) that turn out of to be heads\n",
    "# models the binomial distribution (P(X=k)), expectation: np\n",
    "# {0,0} = zero heads = 1/4\n",
    "# {1,0} = one head = 1/4\n",
    "# {0,1} = one head = 1/4\n",
    "# {1,1} = two heads = 1/4\n",
    "# O = {(0,0),(1,0),(0,1),(1,1)}\n",
    "n = 2\n",
    "p = .5\n",
    "for k in xrange(n+1):\n",
    "    c = factorial(n) / (factorial(k)*factorial(n-k))\n",
    "    print \"probability of {k} heads in {n} coin flips:\".format(k=k,n=n), c * p**k * (1-p)**(n-k)\n",
    "# get the expectation of number of coins out of 2 that turn out to be heads\n",
    "E_X = 0*.25 + 1*.5 + 2*.25\n",
    "print \"expected value:\", E_X\n",
    "print \"binomial expectation:\", n*p\n",
    "# get variance, variance: np(1-p)\n",
    "print \"variance:\", ((0-E_X)**2) * .25 + ((1-E_X)**2) * .5 + ((2-E_X)**2) * .25\n",
    "print \"binomial variance:\", n*p*(1-p)"
   ]
  },
  {
   "cell_type": "markdown",
   "metadata": {},
   "source": [
    "### CLT and Hypothesis Testing"
   ]
  },
  {
   "cell_type": "code",
   "execution_count": null,
   "metadata": {
    "collapsed": true
   },
   "outputs": [],
   "source": [
    "# Hypothesis testing will either be about mapping certain scenarios to an appropriate test, or about elaborating on some of the key ideas of hypothesis tesing: p-values, standard errors, etc.\n",
    "\n",
    "# What is the CLT and how does it apply?\n",
    "# Central limit theorem is the theory that if we draw enough i.i.d. samples from the population distribution and use the mean of those samples, it will result in an approximately normal distribution\n",
    "\n",
    "# What are the steps for Hypothesis Testing?\n",
    "# 1. Define the null and alternative hypothesis\n",
    "# 2. Choose confidence level (95%) or significance level (5%)\n",
    "    # a 95% confidence level implies that 95% of the confidence intervals would include the true population parameter (e.g. if there were 100 samples, 95 of them would contain the true population parameter)\n",
    "# 3. Select test statistic\n",
    "    # 2 means or less: z (n >= 30) else t\n",
    "    # 3 means or more: F test\n",
    "    # non-param: Chi-square\n",
    "# 4. Calculate the p-value\n",
    "    # given that the null hypothesis true, the probability that we observe the a more extreme test statistic in the direction of the alternative hypothesis"
   ]
  },
  {
   "cell_type": "markdown",
   "metadata": {},
   "source": [
    "### Bayesian Statistics"
   ]
  },
  {
   "cell_type": "markdown",
   "metadata": {},
   "source": [
    "### Randomization and Inference"
   ]
  },
  {
   "cell_type": "code",
   "execution_count": 15,
   "metadata": {
    "collapsed": true
   },
   "outputs": [],
   "source": [
    "# How do we setup an A/B Test properly?\n",
    "# 1. Define your metric that measures the outcome of the treatment\n",
    "# 2. Randomize group into equal sizes (e.g. one treatment group and one control group)\n",
    "# 3. Limit the variance of our metric (minimize any confounding factors that also effect our metric)\n",
    "    # e.g. Seasonal periods, intrinsic characteristics of users, etc.\n",
    "# 4. Run the test for the full duration\n",
    "# 5. Evaluate the results\n",
    "    # Maximize effect of the treatment by increasing the effect size of the treatment"
   ]
  },
  {
   "cell_type": "markdown",
   "metadata": {},
   "source": [
    "### Prediction and Machine Learning"
   ]
  },
  {
   "cell_type": "markdown",
   "metadata": {},
   "source": [
    "### Time Series"
   ]
  },
  {
   "cell_type": "code",
   "execution_count": null,
   "metadata": {
    "collapsed": true
   },
   "outputs": [],
   "source": []
  }
 ],
 "metadata": {
  "anaconda-cloud": {},
  "kernelspec": {
   "display_name": "Python [Root]",
   "language": "python",
   "name": "Python [Root]"
  },
  "language_info": {
   "codemirror_mode": {
    "name": "ipython",
    "version": 2
   },
   "file_extension": ".py",
   "mimetype": "text/x-python",
   "name": "python",
   "nbconvert_exporter": "python",
   "pygments_lexer": "ipython2",
   "version": "2.7.13"
  }
 },
 "nbformat": 4,
 "nbformat_minor": 0
}
