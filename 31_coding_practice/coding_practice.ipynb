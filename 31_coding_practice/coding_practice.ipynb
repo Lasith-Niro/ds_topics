{
 "cells": [
  {
   "cell_type": "code",
   "execution_count": null,
   "metadata": {
    "collapsed": true
   },
   "outputs": [],
   "source": [
    "# Topic: Hashing\n",
    "\n",
    "# Objective: Find all pairs with a given sum\n",
    "\n",
    "# Description: Given two unsorted arrays A[] of size n and B[] of size m of distinct elements, the task is to find all pairs from both arrays whose sum is equal to x.\n",
    "\n",
    "# Examples:\n",
    "\n",
    "# Input :  A[] = {-1, -2, 4, -6, 5, 7}\n",
    "#          B[] = {6, 3, 4, 0}  \n",
    "#          x = 8\n",
    "# Output : 4 4, 5 3\n",
    "\n",
    "# Input : A[] = {1, 2, 4, 5, 7} \n",
    "#         B[] = {5, 6, 3, 4, 8}  \n",
    "#         x = 9\n",
    "# Output : 1 8, 4 5, 5 4\n",
    "\n",
    "# A Naive approach is to simply run two loops and pick elements from both arrays. One by one check that both elements sum is equal to given value x or not\n",
    "\n",
    "# An Efficient solution of this problem is to hashing. Hash table is implemented using unordered_set in C++. We store all first array elements in hash table. For elements of second array, we subtract every element from x and check the result in hash table. If result is present, we print the element and key in hash (which is an element of first array).\n",
    "\n",
    "# 1) Initialize an empty hash table s.\n",
    "# 2) Do following for each element A[i] in A[]\n",
    "#    (a)    If s[x - A[i]] is set then print the pair (A[i], x - A[i])\n",
    "#    (b)    Insert A[i] into s."
   ]
  },
  {
   "cell_type": "code",
   "execution_count": 55,
   "metadata": {
    "collapsed": false
   },
   "outputs": [],
   "source": [
    "# unsorted array with distinct elements -> set\n",
    "# a + b = x\n",
    "# a = x-b\n",
    "a = {-1, -2, 4, -6, 5, 7}\n",
    "b = {6, 3, 4, 0}\n",
    "x = 8\n",
    "\n",
    "a = {1, 2, 4, 5, 7} \n",
    "b = {5, 6, 3, 4, 8}  \n",
    "x = 9\n",
    "\n",
    "a = {1, 0, -4, 7, 6, 4}\n",
    "b = {0 ,2, 4, -3, 2, 1}\n",
    "x = 8"
   ]
  },
  {
   "cell_type": "code",
   "execution_count": 56,
   "metadata": {
    "collapsed": false
   },
   "outputs": [
    {
     "name": "stdout",
     "output_type": "stream",
     "text": [
      "4 4\n",
      "6 2\n",
      "7 1\n"
     ]
    }
   ],
   "source": [
    "# naive approach - using double loop -> O(n^2)\n",
    "for i in a:\n",
    "    for j in b:\n",
    "        if (i + j) == x:\n",
    "            print i, j\n",
    "        else:\n",
    "            pass"
   ]
  },
  {
   "cell_type": "code",
   "execution_count": 83,
   "metadata": {
    "collapsed": false
   },
   "outputs": [
    {
     "name": "stdout",
     "output_type": "stream",
     "text": [
      "<type 'dict'>\n",
      "<type 'list'>\n"
     ]
    }
   ],
   "source": [
    "a, b = {}, []\n",
    "print type(a)\n",
    "print type(b)"
   ]
  },
  {
   "cell_type": "code",
   "execution_count": 57,
   "metadata": {
    "collapsed": false
   },
   "outputs": [
    {
     "name": "stdout",
     "output_type": "stream",
     "text": [
      "7 1\n",
      "6 2\n",
      "4 4\n"
     ]
    }
   ],
   "source": [
    "# efficient approach - using hashing -> O(n)\n",
    "s = {}\n",
    "for i in a:\n",
    "    s[i] = 0\n",
    "for j in b:\n",
    "    if x-j in s: \n",
    "        # 8-3=5, 3\n",
    "        # 8-4=4, 4\n",
    "        print \"{} {}\".format(x-j, j)"
   ]
  },
  {
   "cell_type": "code",
   "execution_count": 72,
   "metadata": {
    "collapsed": false
   },
   "outputs": [
    {
     "name": "stdout",
     "output_type": "stream",
     "text": [
      "2 7\n",
      "2 7\n",
      "4 5\n"
     ]
    }
   ],
   "source": [
    "# Topic: Hashing\n",
    "# Objective: Find all pairs with a given sum\n",
    "# Description: Given an integer array, output all pairs that sum up to a specific value k.\n",
    "\n",
    "# Sorting method: O(n log n)\n",
    "# A more efficient solution would be to sort the array and having two pointers to scan the array from the beginning and the end at the same time.\n",
    "nums = [1,5,4,2,6,7,2]\n",
    "def pair_sum_sort(nums, k):\n",
    "    if len(nums) < 2:\n",
    "        return None\n",
    "    sorted_nums = sorted(nums)\n",
    "    left, right = (0, len(nums)-1)\n",
    "    while left < right:\n",
    "        current_sum = sorted_nums[left] + sorted_nums[right]\n",
    "        if current_sum == k:\n",
    "            print sorted_nums[left], sorted_nums[right]\n",
    "            left += 1\n",
    "        elif current_sum < k:\n",
    "            left += 1\n",
    "        else:\n",
    "            right -= 1\n",
    "pair_sum_sort(nums, 9)"
   ]
  },
  {
   "cell_type": "code",
   "execution_count": 78,
   "metadata": {
    "collapsed": false
   },
   "outputs": [
    {
     "name": "stdout",
     "output_type": "stream",
     "text": [
      "(4, 5)\n",
      "(2, 7)\n"
     ]
    }
   ],
   "source": [
    "# Hashing method: O(n)\n",
    "# a + b = 9\n",
    "# a = 9 - b\n",
    "def pair_sum_hashset(nums, k):\n",
    "    if len(nums) < 2:\n",
    "        return None\n",
    "    seen = set()\n",
    "    output = set()\n",
    "    for n in nums:\n",
    "        target = k - n\n",
    "        if target not in seen:\n",
    "            seen.add(n)\n",
    "        else:\n",
    "            output.add((min(n, target), max(n, target)))\n",
    "    print \"\\n\".join(map(str, list(output))) # it maps each item to string in the list, then prints each item with newline by joining the items together\n",
    "pair_sum_hashset(nums, 9)"
   ]
  },
  {
   "cell_type": "code",
   "execution_count": null,
   "metadata": {
    "collapsed": true
   },
   "outputs": [],
   "source": [
    "# Topic: Hashing\n",
    "\n",
    "# Objective: First non-repeating character in a stream\n",
    "\n",
    "# Description: Given an input stream of n characters consisting only of small case alphabets the task is to find the first non repeating character each time a character is inserted to the stream.\n",
    "\n",
    "# Example\n",
    "\n",
    "# Flow in stream : a, a, b, c\n",
    "# a goes to stream : 1st non repeating element a (a)\n",
    "# a goes to stream : no non repeating element -1 (5, 15)\n",
    "# b goes to stream : 1st non repeating element is b (a, a, b)\n",
    "# c goes to stream : 1st non repeating element is b (a, a, b, c)\n",
    "\n",
    "# Example:\n",
    "# Input:\n",
    "# 2\n",
    "# 4\n",
    "# a a b c\n",
    "# 3\n",
    "# a a c \n",
    "# Output:\n",
    "# a -1 b b\n",
    "# a -1 c"
   ]
  },
  {
   "cell_type": "code",
   "execution_count": 63,
   "metadata": {
    "collapsed": false,
    "scrolled": false
   },
   "outputs": [
    {
     "name": "stdout",
     "output_type": "stream",
     "text": [
      "reading a from stream\n",
      "first non-repeating character so far is a\n",
      "reading a from stream\n",
      "reading b from stream\n",
      "first non-repeating character so far is b\n",
      "reading c from stream\n",
      "first non-repeating character so far is b\n"
     ]
    }
   ],
   "source": [
    "stream = \"aabc\"\n",
    "indll = [] * 256\n",
    "repeated = [False] * 256\n",
    "\n",
    "for i in stream:\n",
    "    print \"reading {} from stream\".format(i)\n",
    "    if not repeated[ord(i)]:\n",
    "        if not i in indll:\n",
    "            indll.append(i)\n",
    "        else:\n",
    "            indll.remove(i)\n",
    "        \n",
    "        if len(indll) != 0:\n",
    "            print \"first non-repeating character so far is {}\".format(indll[0])"
   ]
  },
  {
   "cell_type": "code",
   "execution_count": 64,
   "metadata": {
    "collapsed": true
   },
   "outputs": [],
   "source": [
    "# Topic: Hashing\n",
    "\n",
    "# Problem: Find the Odd Occurence\n",
    "\n",
    "# Description: Given an array of positive integers. All numbers occur even number of times except one number which occurs odd number of times. Find the number.\n",
    "\n",
    "# Example:\n",
    "\n",
    "# Input\n",
    "# 1\n",
    "# 5\n",
    "# 8 4 4 8 23\n",
    "\n",
    "# Output\n",
    "# 23"
   ]
  },
  {
   "cell_type": "code",
   "execution_count": 77,
   "metadata": {
    "collapsed": false
   },
   "outputs": [
    {
     "name": "stdout",
     "output_type": "stream",
     "text": [
      "23\n"
     ]
    }
   ],
   "source": [
    "# O(n)\n",
    "p = [8,4,4,8,23,6,6]\n",
    "d = {}\n",
    "for i in p:\n",
    "    if i not in d:\n",
    "        d[i] = 1\n",
    "    else:\n",
    "        d.pop(i)\n",
    "if bool(d) is True:\n",
    "    print d.keys()[0]\n",
    "else:\n",
    "    print \"odd number not found\""
   ]
  },
  {
   "cell_type": "code",
   "execution_count": 86,
   "metadata": {
    "collapsed": false
   },
   "outputs": [],
   "source": [
    "# Topic: Hashing\n",
    "\n",
    "# Objective: Find all four sum numbers\n",
    "\n",
    "# Description: Given an array A of size N, find all combination of four elements in the array whose sum is equal to a given value K. For example, if the given array is {10, 2, 3, 4, 5, 9, 7, 8} and K = 23, one of the quadruple is “3 5 7 8” (3 + 5 + 7 + 8 = 23).\n",
    "\n",
    "# Example:\n",
    "# Input:\n",
    "# 2\n",
    "# 5 3\n",
    "# 0 0 2 1 1 \n",
    "# 7 23\n",
    "# 10 2 3 4 5 7 8\n",
    "# Output:\n",
    "# 0 0 1 2 $\n",
    "# 2 3 8 10 $2 4 7 10 $3 5 7 8 $"
   ]
  },
  {
   "cell_type": "code",
   "execution_count": 87,
   "metadata": {
    "collapsed": true
   },
   "outputs": [],
   "source": [
    "# Topic: Hashing\n",
    "\n",
    "# Objective: Find whether an array is subset of another array\n",
    "\n",
    "# Examples:\n",
    "# Input: arr1[] = {11, 1, 13, 21, 3, 7}, arr2[] = {11, 3, 7, 1}\n",
    "# Output: arr2[] is a subset of arr1[]\n",
    "\n",
    "# Input: arr1[] = {1, 2, 3, 4, 5, 6}, arr2[] = {1, 2, 4}\n",
    "# Output: arr2[] is a subset of arr1[]\n",
    "\n",
    "# Input: arr1[] = {10, 5, 2, 23, 19}, arr2[] = {19, 5, 3}\n",
    "# Output: arr2[] is not a subset of arr1[]"
   ]
  },
  {
   "cell_type": "code",
   "execution_count": 89,
   "metadata": {
    "collapsed": false
   },
   "outputs": [
    {
     "data": {
      "text/plain": [
       "True"
      ]
     },
     "execution_count": 89,
     "metadata": {},
     "output_type": "execute_result"
    }
   ],
   "source": [
    "a1 = {11, 1, 13, 21, 3, 7}\n",
    "a2 = {11, 3, 7, 1}\n",
    "\n",
    "a2.issubset(a1)"
   ]
  },
  {
   "cell_type": "code",
   "execution_count": 92,
   "metadata": {
    "collapsed": true
   },
   "outputs": [],
   "source": [
    "# Topic: Hashing\n",
    "\n",
    "# Objective: Given an array of numbers, return the mode (the number that appears the most times)"
   ]
  },
  {
   "cell_type": "code",
   "execution_count": 114,
   "metadata": {
    "collapsed": false
   },
   "outputs": [
    {
     "data": {
      "text/plain": [
       "1"
      ]
     },
     "execution_count": 114,
     "metadata": {},
     "output_type": "execute_result"
    }
   ],
   "source": [
    "# Brute-force method -> O(n^2)\n",
    "nums = [5,5,5,1,1,1,1,2,3,3,4]\n",
    "def get_mode_bf(nums):\n",
    "    mode = None\n",
    "    max_ct = 0\n",
    "    for p in nums:\n",
    "        c = 0\n",
    "        for n in nums:\n",
    "            if n == p:\n",
    "                c += 1\n",
    "        if c > max_ct:\n",
    "            max_ct = c\n",
    "            mode = p\n",
    "    return mode\n",
    "get_mode_bf(nums)"
   ]
  },
  {
   "cell_type": "code",
   "execution_count": 119,
   "metadata": {
    "collapsed": false
   },
   "outputs": [
    {
     "data": {
      "text/plain": [
       "5"
      ]
     },
     "execution_count": 119,
     "metadata": {},
     "output_type": "execute_result"
    }
   ],
   "source": [
    "# Sorting method -> O(n log n)\n",
    "nums = [5,5,5,1,1,2,3,3,4]\n",
    "def get_mode_sort(nums):\n",
    "    if len(nums) == 0:\n",
    "        return None\n",
    "    elif len(nums) == 1:\n",
    "        return nums[0]\n",
    "    sorted_nums = sorted(nums)\n",
    "    mode, pnum = None, None\n",
    "    max_ct, c_ct = 0, 0\n",
    "    for cnum in sorted_nums:\n",
    "        if cnum == pnum:\n",
    "            c_ct += 1\n",
    "        if c_ct > max_ct:\n",
    "            max_ct = c_ct\n",
    "            mode = cnum\n",
    "        if cnum != pnum:\n",
    "            c_ct = 1\n",
    "        pnum = cnum\n",
    "#         print cnum, c_ct\n",
    "    return mode\n",
    "get_mode_sort(nums)"
   ]
  },
  {
   "cell_type": "code",
   "execution_count": 124,
   "metadata": {
    "collapsed": false
   },
   "outputs": [
    {
     "data": {
      "text/plain": [
       "5"
      ]
     },
     "execution_count": 124,
     "metadata": {},
     "output_type": "execute_result"
    }
   ],
   "source": [
    "# Hashing method -> O(n)\n",
    "def get_mode_dict(nums):\n",
    "    if len(nums) == 0:\n",
    "        return None\n",
    "    elif len(nums) == 1:\n",
    "        return nums[0]\n",
    "    dnum = {}\n",
    "    max_ct = 0\n",
    "    mode = None\n",
    "    for cnum in nums:\n",
    "        if cnum not in dnum:\n",
    "            dnum[cnum] = 1\n",
    "        else:\n",
    "            dnum[cnum] += 1\n",
    "        if dnum[cnum] > max_ct:\n",
    "            max_ct = dnum[cnum]\n",
    "            mode = cnum\n",
    "    return mode\n",
    "get_mode_dict(nums)"
   ]
  },
  {
   "cell_type": "code",
   "execution_count": 101,
   "metadata": {
    "collapsed": false,
    "scrolled": true
   },
   "outputs": [
    {
     "data": {
      "text/plain": [
       "25"
      ]
     },
     "execution_count": 101,
     "metadata": {},
     "output_type": "execute_result"
    }
   ],
   "source": [
    "# Topic: Recursion\n",
    "\n",
    "# Objective: Sum of a List of Numbers\n",
    "\n",
    "l = [1,3,5,7,9]\n",
    "def sum_list_recur(l):\n",
    "    # while the list still has two values to add, keep recursively calling the function to sum up all values\n",
    "    if len(l) == 1: # escape clause for recursion method (like while loops)\n",
    "        return l[0]\n",
    "    else:\n",
    "        # first calls function itself until getting to the base case\n",
    "        # now, it goes back to all of the called functions to sum up the values\n",
    "        return l[0] + sum_list_recur(l[1:])\n",
    "sum_list_recur(l)"
   ]
  },
  {
   "cell_type": "code",
   "execution_count": 127,
   "metadata": {
    "collapsed": false
   },
   "outputs": [
    {
     "data": {
      "text/plain": [
       "6"
      ]
     },
     "execution_count": 127,
     "metadata": {},
     "output_type": "execute_result"
    }
   ],
   "source": [
    "# Topic: Recursion\n",
    "\n",
    "# Objective: Factorial of number\n",
    "\n",
    "# Description: fact(n) returns n * n-1 * n-2 * ... \n",
    "\n",
    "def fact_recur(n):\n",
    "    if n <= 1:\n",
    "        return n\n",
    "    else:\n",
    "        return n * fact_recur(n-1)\n",
    "fact_recur(3)"
   ]
  },
  {
   "cell_type": "code",
   "execution_count": 143,
   "metadata": {
    "collapsed": false
   },
   "outputs": [
    {
     "name": "stdout",
     "output_type": "stream",
     "text": [
      "5AD\n"
     ]
    }
   ],
   "source": [
    "# Topic: Recursion\n",
    "\n",
    "# Objective: Converting an Integer to a String in Any Base\n",
    "\n",
    "def tostr_recur(n,base):\n",
    "    convert_str = \"0123456789ABCDEF\"\n",
    "    if n < base:\n",
    "        return convert_str[n]\n",
    "    else:\n",
    "        return tostr_recur(n//base, base) + convert_str[n%base]\n",
    "\n",
    "print tostr_recur(1453,16)"
   ]
  },
  {
   "cell_type": "code",
   "execution_count": 155,
   "metadata": {
    "collapsed": false
   },
   "outputs": [
    {
     "data": {
      "text/plain": [
       "5"
      ]
     },
     "execution_count": 155,
     "metadata": {},
     "output_type": "execute_result"
    }
   ],
   "source": [
    "# Topic: Hashing\n",
    "\n",
    "# Objective: Given an array of numbers where one number appears twice, find the repeat number\n",
    "\n",
    "nums = [7,2,3,4,5,5,6]\n",
    "def repeat_hash(nums):\n",
    "    d = {}\n",
    "    repeat_num = None\n",
    "    repeat_ct = 0\n",
    "    for n in nums:\n",
    "        if n not in d:\n",
    "            d[n] = 1\n",
    "        else:\n",
    "            d[n] += 1\n",
    "        if d[n] > repeat_ct:\n",
    "            repeat_num = n\n",
    "            repeat_ct = d[n]\n",
    "    return repeat_num\n",
    "repeat_hash(nums)"
   ]
  },
  {
   "cell_type": "code",
   "execution_count": 156,
   "metadata": {
    "collapsed": false
   },
   "outputs": [
    {
     "data": {
      "text/plain": [
       "5"
      ]
     },
     "execution_count": 156,
     "metadata": {},
     "output_type": "execute_result"
    }
   ],
   "source": [
    "# Use set() to solve the problem instead of dictionary\n",
    "def repeat_hashset(nums):\n",
    "    nums_seen = set()\n",
    "    for n in nums:\n",
    "        if n in nums_seen:\n",
    "            return n\n",
    "        nums_seen.add(n)\n",
    "repeat_hashset(nums)"
   ]
  },
  {
   "cell_type": "code",
   "execution_count": 1,
   "metadata": {
    "collapsed": false,
    "scrolled": true
   },
   "outputs": [
    {
     "data": {
      "text/plain": [
       "[1, 2, 3, 4, 5, 6, 7, 8, 9, 10]"
      ]
     },
     "execution_count": 1,
     "metadata": {},
     "output_type": "execute_result"
    }
   ],
   "source": [
    "# Topic: Hashing\n",
    "\n",
    "# Objective: Given an array of numbers in the range 1-1000, return a new array with those same numbers, in sorted order. There may be repeats in the input array. If there are, you should include those repeats in your sorted answer.\n",
    "\n",
    "nums = xrange(1,1001)\n",
    "def sort_array_hash(nums):\n",
    "    # get all of the values in dictionary with counts\n",
    "    d = {}\n",
    "    for n in nums:\n",
    "        if n in d:\n",
    "            d[n] += 1\n",
    "        else:\n",
    "            d[n] = 1\n",
    "    # sort the values\n",
    "    sorted_nums = []\n",
    "    for n in range(1,1001):\n",
    "        if n in d:\n",
    "            for _ in range(d[n]):\n",
    "                sorted_nums.append(n)\n",
    "    return sorted_nums\n",
    "sort_array_hash(nums)[:10]"
   ]
  },
  {
   "cell_type": "code",
   "execution_count": 20,
   "metadata": {
    "collapsed": false
   },
   "outputs": [
    {
     "name": "stdout",
     "output_type": "stream",
     "text": [
      "stream of 1 items:\n",
      "    probability of latest (1) item: 1.0\n",
      "stream of 2 items:\n",
      "    probability of 1 item via (1.0) * (0.5): 0.5\n",
      "    probability of latest (2) item: 0.5\n",
      "stream of 3 items:\n",
      "    probability of 1 item via (0.5) * (0.666666666667): 0.333333333333\n",
      "    probability of 2 item via (0.5) * (0.666666666667): 0.333333333333\n",
      "    probability of latest (3) item: 0.333333333333\n",
      "stream of 4 items:\n",
      "    probability of 1 item via (0.333333333333) * (0.75): 0.25\n",
      "    probability of 2 item via (0.333333333333) * (0.75): 0.25\n",
      "    probability of 3 item via (0.333333333333) * (0.75): 0.25\n",
      "    probability of latest (4) item: 0.25\n"
     ]
    }
   ],
   "source": [
    "# Topic: Probability Theory and Algorithm Design\n",
    "# Objective: Solving reservoir sampling or stratified random sampling\n",
    "# Description: Say you have a stream of items of large and unknown length that we can only iterate over once. Create an algorithm that randomly chooses an item from this stream such that each item is equally likely to be selected.\n",
    "\n",
    "# The simplest concrete example would be a stream with only containing a single item -> make our algorithm return the item with probability of 1\n",
    "# A stream with two items: hold onto the first item from stream since we don't know if the stream only has one item and when the second item comes along, we want to return one of the two items (each with a probability of 1/2). Generate a random number, R, between 0 and 1, and return the first item if R is less than 0.5 and return the second item if R is greater than 0.5\n",
    "# A stream with three items: after seeing the second item in the stream, we are now holding onto either the first item or the second item, each with probability of 1/2. When the third element arrives, we know there are only 3 items in the stream, so we need to return the third element with probability 1/3. This means that we have to return the other items with probability 1 - 1/3 = 2/3\n",
    "    # 1st item: (1/2) * (2/3) = 1/3\n",
    "    # 2nd item: (1/2) * (2/3) = 1/3\n",
    "    # 3rd item: 1/3\n",
    "# Generalize this algorithm to any N:\n",
    "    # At every step N,\n",
    "        # Keep the next element in the stream with probability: 1/N (e.g. 1/3 for 3rd item)\n",
    "        # The probability of keeping the element we are currently holding onto: 1 - (1/N) = (N-1)/N (e.g. (3-1)/3 = 2/3 for other items (1st and 2nd item))\n",
    "        \n",
    "N = 4\n",
    "prob = None\n",
    "for n in xrange(1,N+1):\n",
    "    print \"stream of {} items:\".format(n) \n",
    "    for i in xrange(1,n+1):\n",
    "        if i == n:\n",
    "            prob = 1./n\n",
    "            print \"    probability of latest ({}) item: {}\".format(i, prob)\n",
    "        else:\n",
    "            print \"    probability of {} item via ({}) * ({}): {}\".format(i, prob, (n-1.)/n, prob * (n-1.)/n)"
   ]
  },
  {
   "cell_type": "code",
   "execution_count": 25,
   "metadata": {
    "collapsed": false
   },
   "outputs": [
    {
     "name": "stdout",
     "output_type": "stream",
     "text": [
      "helo\n",
      "helo\n"
     ]
    }
   ],
   "source": [
    "# Objective: Given a string as your input, delete any reoccurring character, and return the new string.\n",
    "\n",
    "# using set -> O(n)\n",
    "mystr = \"hello\"\n",
    "st = set()\n",
    "uniq_str = \"\"\n",
    "for s in mystr:\n",
    "    if s not in st:\n",
    "        st.add(s)\n",
    "        uniq_str += s\n",
    "print uniq_str\n",
    "\n",
    "# using dictionary -> O(n)\n",
    "mystr = \"hello\"\n",
    "d = {}\n",
    "uniq_str = \"\"\n",
    "for s in mystr:\n",
    "    if s in d:\n",
    "        d[s] += 1\n",
    "    else:\n",
    "        d[s] = 1\n",
    "    if d[s] == 1:\n",
    "        uniq_str += s\n",
    "print uniq_str"
   ]
  },
  {
   "cell_type": "code",
   "execution_count": 70,
   "metadata": {
    "collapsed": false
   },
   "outputs": [
    {
     "name": "stdout",
     "output_type": "stream",
     "text": [
      "3\n"
     ]
    },
    {
     "data": {
      "text/plain": [
       "0"
      ]
     },
     "execution_count": 70,
     "metadata": {},
     "output_type": "execute_result"
    }
   ],
   "source": [
    "# Objective: Maximum number of partitions that can be sorted individually to make sorted / Max Chunks To Make Sorted \n",
    "# Description: Given an array arr that is a permutation of [0, 1, ..., arr.length - 1], we split the array into some number of \"chunks\" (partitions), and individually sort each chunk.  After concatenating them, the result equals the sorted array. What is the most number of chunks we could have made?\n",
    "# Strategy: The key to solve this problem is using a stack to track the existing chunk. Each chunk is represented a min and max number. Each chunk is essentially an interval and the interval can not overlap.\n",
    "\n",
    "arr = [5,4,7,6,8]\n",
    "# sort partitions using stack class\n",
    "def sort_partitions_stack(arr):\n",
    "    # get max partitions\n",
    "    stack = []\n",
    "    if arr == None or len(arr) == 0:\n",
    "        print 0\n",
    "    for n in arr:\n",
    "        min_arr, max_arr = n, n\n",
    "        while(stack != []):\n",
    "            top = stack[-1]\n",
    "#             print n, top[1]\n",
    "            if(n < top[1]):\n",
    "                min_arr = min(top[0], min_arr)\n",
    "                max_arr = max(max_arr, top[1])\n",
    "                stack.pop()\n",
    "            else:\n",
    "                break\n",
    "#         print min_arr,max_arr\n",
    "        stack.append([min_arr,max_arr])\n",
    "#     print \"final stack:\", stack\n",
    "    print len(stack)\n",
    "sort_partitions_stack(arr)\n",
    "\n",
    "def sort_partitions_simple(arr):\n",
    "    max_seen, total = 0, 0\n",
    "    for i, v in enumerate(arr, 1):\n",
    "#         print \"index, value:\", i, v\n",
    "        max_seen = max(max_seen, v)\n",
    "#         print \"max_seen, i-1:\", max_seen, i-1\n",
    "        if max_seen == i-1:\n",
    "            total += 1\n",
    "    return total\n",
    "sort_partitions_simple(arr)"
   ]
  },
  {
   "cell_type": "code",
   "execution_count": null,
   "metadata": {
    "collapsed": true
   },
   "outputs": [],
   "source": []
  }
 ],
 "metadata": {
  "anaconda-cloud": {},
  "kernelspec": {
   "display_name": "Python [Root]",
   "language": "python",
   "name": "Python [Root]"
  },
  "language_info": {
   "codemirror_mode": {
    "name": "ipython",
    "version": 2
   },
   "file_extension": ".py",
   "mimetype": "text/x-python",
   "name": "python",
   "nbconvert_exporter": "python",
   "pygments_lexer": "ipython2",
   "version": "2.7.13"
  }
 },
 "nbformat": 4,
 "nbformat_minor": 0
}
