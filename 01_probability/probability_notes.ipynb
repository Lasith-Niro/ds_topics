{
 "cells": [
  {
   "cell_type": "markdown",
   "metadata": {},
   "source": [
    "Probability Theory - the study of uncertainty \n",
    "* it is important to machine learning because the design of learning algorithms often relies on probability assumption of the data"
   ]
  },
  {
   "cell_type": "markdown",
   "metadata": {},
   "source": [
    "1) Basic Concepts (Probability, Random Variables, Distributions, Independence, Chain Rule, Bayes Rule)\n",
    "* **Combinatorial Analysis** - effective method for counting the number of ways that things can occur\n",
    "    * **Permutations** - number of different ordered arrangements\n",
    "    $$\\frac{n!}{(n-r)!}$$\n",
    "    * **Combinations** - number of different arrangments with order disregarded\n",
    "    $$\\big(^n_r\\big)=\\frac{n!}{(n-r)!r!}$$\n",
    "* **Probability Space**:\n",
    " * **Axioms of Probability**:\n",
    "     1. $0 \\leq P(E) \\leq 1$ where $P(E)$ is the probability of an event, $E$, happening\n",
    "     2. $P(S) = 1$ where $P(S)$ is the probability of the sample space, $S$\n",
    " * $\\Omega$ = space of possible outcomes (**Outcome space / Sample space**)\n",
    " * $F$ = space of measurable events (**Event space**)\n",
    " * $P$ = probability measure or distribution\n",
    " * **six-sided dice example:**\n",
    "    * $\\Omega = \\{1,2,3,4,5,6\\}$\n",
    "    * events of interest: odd or even dice throw\n",
    "        * $F = \\{\\varnothing,\\{1,3,5\\},\\{2,4,6\\},\\Omega\\}$\n",
    "    * define probability distribution $P$ over $F$ (defined over events)\n",
    "        * $P(\\{1\\}) = P(\\{2\\}) = \\dots = P(\\{6\\}) = \\frac{1}{6}$\n",
    "        * $P(\\{2,4,6\\}) = P(\\{2\\}) + P(\\{4\\}) + P(\\{6\\}) = \\frac{1}{6} + \\frac{1}{6} + \\frac{1}{6} = \\frac{1}{2}$\n",
    "* **Probabilistic Interpretations**:\n",
    " * **Frequentist** - how likely an event occurs\n",
    " * **Bayesian** - degree of belief in an event\n",
    "* **Random Variables**:\n",
    " * random variables are not variables, but functions that map outcomes to real values\n",
    " * allows us to abstract away from formal notion of event space, and instead use random variables to define appropriate events\n",
    " * **six-sided dice example:**\n",
    "    * let $X$ be a random variable that maps outcome $i$ to the value $a$\n",
    "    * for example: mapping event of throwing a \"one\" to the value of $1$\n",
    "    * another example: map events of throwing a odd roll to $1$ and even roll to $0$\n",
    " * indicate probability with respect to random variable notation via: \n",
    "    * $P(X = a)$ or $P_{x}(a)$ (probability of a random variable $X$ taking on the value of $a$)\n",
    "    * $Val(X)$ denotes the range of random variable $X$\n",
    "* **Distributions, Joint Distributions, Marginal Distributions and Conditional Distributions**:\n",
    "    * What is a **distribution** of a variable? this is the probability of a random variable taking on certain values\n",
    "     * **six-sided dice example:**\n",
    "        * if dice is fair, then the distribution of $X$: (defined over random variables)\n",
    "            * $P(X = 1) = P(X = 2) = \\dots = P(X = 6) = \\frac{1}{6}$\n",
    "     * $P(X)$ denotes distribution of random variable $X$\n",
    "    * **Joint Distributions** - refers to a distribution that is defined by more than one variable (probability is determined jointly by all variables involved)\n",
    "     * **1 fair six-sided dice and 1 fair coin example:**\n",
    "        * let $X$ be a random variable defined on the outcome space of a dice throw and $Y$ be an indicator variable that takes on value of 1 if coin flip is heads and 0 if tails\n",
    "        * $P(X = a,Y = b)$ or $P_{X,Y}(a,b)$\n",
    "        * joint distribution notated: $P(X,Y)$\n",
    "        * e.g. $P(X = 1, Y = 0) = \\frac{1}{12}$\n",
    "        * e.g. $P(X = 2, Y = 1) = \\frac{1}{12}$\n",
    "        * e.g. $P(X = 3, Y = 0) = \\frac{1}{12}$\n",
    "    * **Marginal Distribution** - refers to the probability of a distribution of random variable on its own when dealing with a distribution defined by more than one variable\n",
    "        * from the example above, finding the marginal distribution of $X$ or $Y$ alone\n",
    "        * sum out all other random variables from the distribution: $P(X) = \\sum_{b\\in Val(Y)}P(X,Y = b)$ (sum out random variable $Y$ to find marginal distribution of $X$)\n",
    "    * **Conditional Distributions** - allows us to specify distribution of random variable when the value of another random variable is known (or event is known to be true)\n",
    "        * Conditional distributions allows us to reason about uncertainty\n",
    "        * **Conditional probability** is a method of calculating probabilities with partial or no information available\n",
    "        * **Conditional probability** of $X = a$ **given** $Y = b$ is defined as: \n",
    "            $$P(X = a \\mid  Y = b) = \\frac{P(X = a, Y = b)}{P(Y = b)}$$\n",
    "            $$P(X \\mid  Y) = \\frac{P(X \\cup Y)}{P(Y)}$$\n",
    "        * **1 fair six-sided dice example:**\n",
    "            * suppose we know that a dice throw was odd and want to know the probability of an \"one\" has been thrown\n",
    "            * let $X$ be random variable of dice throw and $Y$ be indicator variable that takes on value of $1$ if dice throws is odd\n",
    "                $$P(X = 1\\mid  Y = 1) = \\frac{P(X = 1, Y = 1)}{P(Y = 1)} = \\frac {\\frac{1}{6}}{\\frac{1}{2}} = \\frac{1}{3}$$ \n",
    "            * Top: dice has 1/6 chance of throwing 1\n",
    "            * Bottom: dice has 1/2 chance of being odd\n",
    "        * When there is a distribution of random variable conditioned on several variables: \n",
    "            $$P(X = a \\mid  Y = b, Z = c) = \\frac{P(X = a, Y = b, Z = c)}{P(Y = b, Z = c)}$$\n",
    "            * $P(X\\mid Y = b)$ denotes distribution of random variable $X$ when $Y = b$\n",
    "            * $P(X\\mid Y)$ denotes a set of distributions of $X$, one for each of the different values of $Y$\n",
    "* **Independence**:\n",
    " * **Independence** means that the distribution of a random variable does *not* change on learning the value of an another random variable\n",
    "    * in ML, we often make such assumptions about our data (e.g. training samples are assumed to be drawn independently; label of sample $i$ is assumed to be independent of the features of sample $j$ $(i \\neq j$))\n",
    "    * probability of event A and B occurring:\n",
    "        $$P(A\\cap B) = P(A\\mid B) * P(B) = P(B\\mid A) * P(A)$$\n",
    "    * mathematically, a random variable $X$ is independent of $Y$ when:\n",
    "        $$P(X) = P(X\\mid Y)$$ \n",
    "        * Holds true for any values of $X$ and $Y$\n",
    "    * mathematically, $X$ and $Y$ both are independent random variables of each other when:\n",
    "        $$P(X,Y) = P(X)P(Y)$$\n",
    "        $$P(A\\cap B) = P(A)P(B)$$\n",
    " * **Conditional Independence** - means if we know the value of a random variable (or set of random variables), then some other random variables will be independent of each other\n",
    "     * $X$ and $Y$ are conditionally independent given $Z$\n",
    "     * $P(X\\mid Z) = P(X\\mid Y,Z)$ or\n",
    "     * $P(X,Y\\mid Z) = P(X\\mid Z)P(Y\\mid Z)$\n",
    "     * Assumption made by **Naive Bayes algorithm**\n",
    "         * e.g. Classifying emails as spam or non-spam\n",
    "         * Assumes that the probability of a word $x$ appearing in the email is conditionally independent of a word $y$ appearing given whether the email is spam or not\n",
    "         * Why is this bad? (-) loss of generality as some words invariably come in pairs (loss of paired words relationship)\n",
    "         * Why is this good? (+) allows classification of spams quickly\n",
    "* **Chain Rule and Bayes Rule**:\n",
    " * **Chain Rule** - evaluates joint probability of some random variables (is especially useful when there are conditional independence across variables)\n",
    "     * important in study of Bayesian Networks and Probability Graphical Models\n",
    "     * $P(X_{1},X_{2},\\dots,X_{n}) = P(X_{1})P(X_{2}\\mid X_{1}) \\cdots P(X_{n}\\mid X_{1},X_{2},\\dots,X_{n-1})$\n",
    "     * $P(X_{1},X_{2},\\dots,X_{n}) = \\prod_{n=1}^k P(X_{n}\\mid X_{1},X_{2},\\dots,X_{n-1})$\n",
    "         * $P(X_1,X_2,X_3)=P(X_1) * P(X_2\\mid X_1) * P(X_3\\mid X_1,X_2)$\n",
    "         * where $P(X_1,X_2) = P(X_1) * P(X_2\\mid X_1)$\n",
    " * **Bayes Rule** - allows computation of conditional probability $P(X\\mid Y)$ from $P(Y\\mid X)$\n",
    "     $$P(X\\mid Y) = \\frac{P(Y\\mid X)P(X)}{P(Y)}$$\n",
    "     $$P(X \\cup Y) = P(Y\\mid X) P(X)$$\n",
    "     * If $P(Y)$ is not given, find marginal distribution of $X$: (Law of Total Probability) \n",
    "     $$P(Y) = \\sum_{b\\in Val(X)}P(X = a,Y) = \\sum_{b\\in Val(X)}P(Y\\mid X = a)P(X = a)$$ \n",
    " * **Bayes Rule for Multiple Random Variables**:\n",
    "     $$P(X,Y\\mid Z) = \\frac{P(Z\\mid X,Y)P(X,Y)}{P(Z)} = \\frac{P(Y,Z\\mid X)P(X)}{P(Z)}$$\n",
    "     $$P(X\\mid Y,Z) = \\frac{P(Y\\mid X,Z)P(X,Z)}{P(Y,Z)} = \\frac{P(Y\\mid X,Z)P(X\\mid Z)P(Z)}{P(Y\\mid Z)P(Z)} = \\frac{P(Y\\mid X,Z)P(X\\mid Z)}{P(Y\\mid Z)}$$\n",
    "* **Sets**:\n",
    " * **Complement (e.g. $A^c$ or $A'$)** - denotes all elements that are not in the complementary set\n",
    " ![complement](complement.png)\n",
    " * **Union (e.g. $A \\cup B$ or $A \\text{ or } B$)** - denotes all elements that are in A or B\n",
    " ![union](union.png)\n",
    " * **Intersection (e.g. $A \\cap B$ = $A,B$ = $A\\&B$ = $A \\text{ and } B$)** - denotes all elements in A and B\n",
    " ![intersection](intersection.png)\n",
    "     * **Disjoint** - two sets are disjoint if their intersection is null $\\varnothing$"
   ]
  },
  {
   "cell_type": "markdown",
   "metadata": {},
   "source": [
    "2) Defining Probability Distributions\n",
    "* **Discrete Distribution / Probability Mass Function (PMF)**:\n",
    " * **Discrete Distribution** - random variable of the underlying distribution can only take on **finite** many different values (Outcome space is **finite**)\n",
    " * **Probability Mass Function** - enumeration the probability of random variable taking on each of the possible values\n",
    "     ![pmf](http://wiki.ubc.ca/images/thumb/2/21/MATH105DiceDistPDF.png/300px-MATH105DiceDistPDF.png)\n",
    "     * Divides up a unit mass (total probability) and places them on different values a random variable can take\n",
    "     * Can extend to joint distributions and conditional distributions\n",
    "* **Continuous Distribution / Probability Density Function (PDF)**:\n",
    " * **Continuous Distribution** - random variable of the underlying distribution can take on **infinitely** many different values (Outcome space is **infinite**)\n",
    "     * Cannot place a non-zero amount of mass on each of the values since it will add up to infinity (violating requirement of total probability to sum to 1)\n",
    " * **Probability Density Function**, $f$ - a non-negative, integrable function that defines the continuous distribution such that:\n",
    "     ![pdf](http://www.mathwave.com/img/art/graphs_pdf1.gif)\n",
    "     $$\\int_{Val(X)} f(x)dx = 1$$\n",
    "     * Compute probability of a random variable $X$ distributed to a PDF $f$:\n",
    "         $$P(a \\leq X \\leq b) = \\int_{a}^{b} f(x)dx$$\n",
    "     * Uniform Distribution example: \n",
    "         * Let random variable $X$ be uniformly distributed in the range $[0,1]$:\n",
    "             * $f(x) = $$\\begin{cases} \n",
    "            1  & \\text{if $0 \\leq x \\leq 1$} \\\\\n",
    "            0 & \\text{$otherwise$}\n",
    "            \\end{cases}$\n",
    "         * more generally, if $X$ is distributed uniformly over the range [a,b], the PDF:\n",
    "             * $f(x) = $$\\begin{cases} \n",
    "            \\frac{1}{b-a}  & \\text{if $a \\leq x \\leq b$} \\\\\n",
    "            0 & \\text{$otherwise$}\n",
    "            \\end{cases}$\n",
    " * **Cumulative Distribution Function (CDF)** - gives the probability of a random variable being smaller than some value\n",
    "    ![cdf](https://upload.wikimedia.org/wikipedia/commons/thumb/c/ca/Normal_Distribution_CDF.svg/300px-Normal_Distribution_CDF.svg.png)\n",
    "    * **PDF** $\\rightarrow$ **CDF**: $F(b) = P(X \\leq b) = \\int_{-\\infty}^{b} f(x)dx$\n",
    "    * **CDF** $\\rightarrow$ **PDF**: $F'(x) = F(x)\\frac{d}{dx}  = f(x)$"
   ]
  },
  {
   "cell_type": "markdown",
   "metadata": {},
   "source": [
    "3) Expectations and Variance\n",
    "* **Expectations: (aka Mean, Expected Value, First Moment)**\n",
    "    * **Expected Value** of random variable is the long-run average value of repetitions of an experiment it represents\n",
    "    * For example, the expected value in rolling a six-sided dice is 3.5, because the average of all the numbers that come up in an extremely large number of rolls is close to 3.5\n",
    "    * Expectation is the **sum of all possible values of random variable** multiplied by its **probability**:\n",
    "        $$E[X] = x_1p_1 + x_2p_2 + \\cdots +  x_kp_k$$\n",
    "        $$E[X] = \\sum_{a\\in Val(X)}aP(X = a)$$\n",
    "        $$E[X] = \\int_{a\\in Val(X)}xf(x)dx$$\n",
    "        $$E[X] = \\int_{-\\infty}^{\\infty}xf(x)dx$$\n",
    "    * Example: Let $X$ be the outcome of rolling a fair dice\n",
    "     * Expectation of $X$ is:\n",
    "     * $E[X] = (1)\\frac{1}{6} + (2)\\frac{1}{6} + \\cdots + (6)\\frac{1}{6} = (3)\\frac{1}{2}$\n",
    "    * **Linearity of Expectations Theorem**:\n",
    "     * Sums of Random Variables:\n",
    "         * $E[X_{1}+X_{2}+\\cdots+X_{n}] = E[X_{1}]+E[X_{2}]+\\cdots+E[X_{n}]$\n",
    "         * No restrictions on whether the random variables are independent or not\n",
    "     * On products of random variables when independent then:\n",
    "         * $E[XY] = E[X]E[Y]$\n",
    "* **Variance: (aka Spread, Second Moment)**\n",
    " * **Variance** of a distribution is a measure of the \"spread\" of a distribution\n",
    " * Defined as the mean squared distance between random variable $X$ and mean $\\mu$ (can be converted using expectation)\n",
    "     $$\\begin{align} Var(X) & = \\sigma^2 \\\\\n",
    "         & = E\\big[(X-\\mu)^2\\big] \\\\\n",
    "         & = E\\big[(X-E[X])^2\\big] \\\\\n",
    "         & = E\\big[X^2-2XE[X] + (E[X])^2\\big] \\\\\n",
    "         & = E[X^2]-2E[X]E[X] + (E[X])^2 \\\\\n",
    "         & = E[X^2]-(E[X])^2\n",
    "     \\end{align}$$\n",
    "     $$Var(X) = E[(X-\\mu)^2] = \\sum_{i=1}^k p_i * (x_i-\\mu)^2$$\n",
    "     $$Var(X) = \\sigma^2 = \\int (x-\\mu)^2f(x)dx$$\n",
    " * **Standard Deviation** = $\\sigma = \\sqrt{Var(X)}$\n",
    " * Variance is not a linear function of a random variable $X$\n",
    "     * $Var(aX+b) = a^2Var(X)$\n",
    " * If random variables $X$ and $Y$ are independent:\n",
    "     * $Var(X+Y)=Var(X)Var(Y)$ if $X\\bot Y$\n",
    " * **Covariance** - measures how close two random variables are closely related\n",
    "     $$\\begin{align} Cov(X,Y) & = E[(X-E[X])(Y-E[Y])] \\\\\n",
    "         & = E[(X-\\mu_x)(Y-\\mu_y)] \\\\\n",
    "         & = E(XY)-E(X)E(Y) \\\\\n",
    "         & = \\frac{\\sum_{i=1}^n(x_i-\\bar{x})(y_i-\\bar{y})}{n-1}\n",
    "     \\end{align}$$\n",
    " * **Correlation** - normalized version of correlation coefficient\n",
    "     * also measures strength of linear relationship between two variables\n",
    "     $$\\rho_{X,Y} = corr(X,Y) = \\frac{cov(X,Y)}{\\sigma_X \\sigma_Y} = \\frac{E[(X-\\mu_x)(Y-\\mu_y)]}{\\sigma_x\\sigma_y}$$\n",
    "     $$\\tau_{X,Y} = \\frac{ \\sum_{i=1}^n(x_i-\\bar{x})(y_i-\\bar{y}) } { \\sqrt{ \\sum_{i=1}^n(x_i - \\bar{x})^2 \\sum_{i=1}^n(y_i - \\bar{y})^2} }$$\n",
    "     * correlation measures strength of relationship between two variables but doesn't capture some qualities:\n",
    "         * e.g. anscombe's quartet\n",
    "         * reflects noisiness and direction\n",
    "         * not slope and non-linearly qualities \n",
    " * **Scatterplot Matrix** - captures the $Var(X_1)$, $Cov(X_1,X_2)$, $Corr(X_1,X_2)$\n",
    "      * let $X$ be data matrix $m$ features: $X=[X_1,X_2,\\dots,X_m]$\n",
    "      * variances on diagonal\n",
    "      * compact representation of all covariances\n",
    "      * correlation matrices"
   ]
  },
  {
   "cell_type": "markdown",
   "metadata": {},
   "source": [
    "4) Statistical Distributions\n",
    "* **Bernoulli$(p)$** (PMF):\n",
    " ![bernoulli](http://www.statisticshowto.com/wp-content/uploads/2016/07/bernoulli-distribution.png)\n",
    " * Description: **Discrete** probability distribution for a bernoulli trial (1 for success probability of p and 0 for failure)\n",
    " $$P(X = 1) = p = 1 - P(X=0) = 1-q$$\n",
    " $$f(x) = \\begin{cases} \n",
    "            p & \\text{if $x = 1$} \\\\\n",
    "            1-p & \\text{if $x = 0$}\n",
    "            \\end{cases}$$\n",
    " $$P(X) = p^x(1-p)^{1-x} \\text{ for } x \\in \\{0,1\\}$$\n",
    " $$P(X) = px + (1-p)(1-x) \\text{ for } x \\in \\{0,1\\}$$\n",
    " * **PMF** = $P[success] = p$, $P[failure] = 1-p$\n",
    " * Mean: $E[x] = p$\n",
    " * Variance: $Var(x) = p(1-p) = pq$\n",
    " * Example: $Bernoulli(p)$ = **single coin flip** turns out to be heads\n",
    " * A random variable distribution that takes two possible values {0,1}\n",
    " * Has a single parameter, $p$, to be $P(X=1)$\n",
    " * Often indicates whether a trial was successful or not\n",
    " * Bernoulli distribution is a special case of binomial distribution with $n=1$\n",
    " * e.g. classification task using logistic regression has assumptions that the label are Bernoulli distributed given the features\n",
    "* **Binomial$(n,p)$** (PMF):\n",
    " ![binomial](https://www.sumproduct.com/fileadmin/filemount/Thought_Files/N-Z/Image-03-No.-of-Heads-from-16-Coin-Tosses.gif)\n",
    " * Description: **Discrete** probability distribution of obtaining exactly $k$ successes out of $n$ trials\n",
    " * **PMF**: $$P(X=k)=\\big(^n_k\\big)p^k(1-p)^{n-k} \\text{ for } 0 \\leq k \\leq n$$\n",
    " $$\\big(^n_k\\big)=\\frac{n!}{k!(n-k)!}$$\n",
    " * Mean: $np$\n",
    " * Variance: $npq = np(1-p)$\n",
    " * Example: $Binomial(100,p)$ = **# of coin flips** out of 100 that turn out of to be heads\n",
    "     * Or a simplier one, the probability of getting 0,1,2 heads\n",
    "* **Geometric$(p)$** (PMF):\n",
    " ![geometric](https://cdn.app.compendium.com/uploads/user/458939f4-fe08-4dbc-b271-efca0f5a2682/479b4fbd-f8c0-4011-9409-f4109cc4c745/Image/037562ad542357e18ef0cf1071510f86/geometric_distribution.png)\n",
    " * Description: **Discrete** probability of some number $(X)$ of Bernoulli trials needed to get one success. It also refers to probability of $(X-1)$ failures before the first success\n",
    " * **PMF**: $$P(X=k) = p(1-p)^{k-1} \\text{ for } k = 1,2,\\dots$$\n",
    " * Mean: $\\frac{1}{p}$\n",
    " * Variance: $\\frac{1-p}{p^2}$\n",
    " * Example: $Geometric(p)$ = # of trials until coin flip turns out to be heads\n",
    "* **Hypergeometric** (PMF):\n",
    " ![hypergeometric](https://upload.wikimedia.org/wikipedia/commons/c/c1/HypergeometricPDF.png)\n",
    " * Description: **Discrete** probability distribution that describes probability of $k$ successes in $n$ draws, **without replacement**\n",
    " * **The Hypergeometric Test** uses the hypergeometric distribution to calculate the statistical significance of having drawn $k$ successes in $n$ total draws\n",
    "     * Example: Urn with two types of marbles (red and green) and draw marbles without replacement\n",
    "     * Define drawing a green marble as a success and drawing a red as a failure (analogous to binomial distribution)\n",
    "     * Did I draw the **expected** number of green marbles?\n",
    "     * This is **not** a binomial distribution since the probability of success on each trial is not the same\n",
    " * Models the game - texas hold 'em\n",
    "* **Poisson$(\\lambda)$** (PMF):\n",
    " ![poisson](https://upload.wikimedia.org/wikipedia/commons/thumb/1/16/Poisson_pmf.svg/360px-Poisson_pmf.svg.png)\n",
    " * Description: after the mean of an event happening per unit time is observed, obtain the **discrete** probability of $n$ events happening\n",
    " * **PMF**: $$P(X=k)=\\frac{e^{-\\lambda}\\lambda^k}{k!}\\text{ for }k = 0,1,2,\\dots$$\n",
    " * Mean: $\\lambda$\n",
    " * Variance: $\\lambda$\n",
    " * Example: $Poisson(\\lambda=10)$ = # of taxis passing a street corner in a given hour (on avg 10/hr)\n",
    " * Deals with the arrival of events:\n",
    "     * Measures the probability of the number of events happening over a fixed period of time\n",
    "     * Assumes a fixed average rate of occurrence\n",
    "     * Assumes that the events take place independently of the time since the last event\n",
    " * Is parameterized by average arrival rate $\\lambda$\n",
    " * Mean of Poisson random variable is $\\lambda$\n",
    " * Variance is also $\\lambda$\n",
    " * Other Examples: $k$ overflow floods in 100 years, $k$ goals in a match\n",
    "* **Uniform$(a,b)$** (PDF):\n",
    " ![uniform](https://upload.wikimedia.org/wikipedia/commons/thumb/9/96/Uniform_Distribution_PDF_SVG.svg/500px-Uniform_Distribution_PDF_SVG.svg.png)\n",
    " * **PDF**: $$f(x) = \\begin{cases} \n",
    "            \\frac{1}{b-a} & \\text{for $a \\leq x \\leq b$} \\\\\n",
    "            0 & \\text{for $x \\lt a$ or $x \\gt b$}\n",
    "            \\end{cases}$$\n",
    " * Mean: $\\frac{a+b}{2}$\n",
    " * Variance: $\\frac{(b-a)^2}{12}$\n",
    " * Example: $Uniform(0,360)$ = Degrees between hour hand and minute hand\n",
    " * Other Examples: rolling a single die ($\\frac{1}{6}$ probability for each number being rolled), giving all participants same amount of time to answer questions\n",
    "* **Gaussian$(\\mu,\\sigma^2)$** (PDF): (aka Normal Distribution)\n",
    " ![gaussian](https://upload.wikimedia.org/wikipedia/commons/thumb/7/74/Normal_Distribution_PDF.svg/700px-Normal_Distribution_PDF.svg.png)\n",
    " * Description: most widely distribution for continuous variables\n",
    " * **PDF**: $$f(x \\mid \\mu,\\sigma^2) = \\frac{1}{\\sqrt{2\\pi\\sigma^2}}e^{\\frac{-(x-\\mu)^2}{2\\sigma^2}} \\text{ for } x \\in (-\\infty, \\infty)$$\n",
    " * Mean: $\\mu$\n",
    " * Variance: $\\sigma^2$\n",
    " * Example: $Gaussian(100,10)$ = IQ Score\n",
    " * Inverse of variance is called **precision** $(\\tau = \\frac{1}{\\sigma^2})$\n",
    " * Approximates binomial distribution when the number of experiments is large\n",
    " * Approximates poisson distribution when the average arrival rate is high\n",
    " * Related to Law of Large Numbers\n",
    " * Often assume noise in the system is Gaussian distributed\n",
    " * Parameterized by mean $\\mu$ and variance $\\sigma^2$\n",
    "* **Exponential$(\\lambda)$** (PDF):\n",
    " ![exponential](https://upload.wikimedia.org/wikipedia/commons/thumb/e/ec/Exponential_pdf.svg/650px-Exponential_pdf.svg.png)\n",
    " * Description: models the time between events for a poisson process (subcase of gamma distribution)\n",
    " * **PDF**: $$f(x \\mid \\lambda) = \\begin{cases} \n",
    "           \\lambda e^{-\\lambda x} & \\text{for $x \\geq 0$} \\\\\n",
    "            0 & \\text{for $x \\lt 0$}\n",
    "            \\end{cases}$$\n",
    " * Mean: $\\frac{1}{\\lambda}$\n",
    " * Variance: $\\frac{1}{\\lambda^2}$\n",
    " * Example: $Exponential(\\lambda=10)$ = time until taxi will pass street corner\n",
    " * Other Examples: The time until a radioactive particle decays, the time it takes before your next telephone call, and the time until default (on payment to company debt holders) in reduced form credit risk modeling\n",
    " * It is governed by a rate parameter $\\lambda$\n",
    "* **Beta$(\\alpha,\\beta)$** (PDF):\n",
    " ![beta](https://upload.wikimedia.org/wikipedia/commons/thumb/f/f3/Beta_distribution_pdf.svg/650px-Beta_distribution_pdf.svg.png)\n",
    " * Description: **Density** function that is versatile in representing outcomes like proportions or probabilities. It works on a space between 0 and 1\n",
    " * **PDF**: $$P(x\\mid \\alpha,\\beta) = \\frac{x^{\\alpha-1}(1-x)^{\\beta-1}}{B(\\alpha,\\beta)}$$\n",
    "     * where $B$ is the beta function: $$B(\\alpha,\\beta) = \\int_0^1 t^{\\alpha-1}(1-t)^{\\beta-1}dt$$\n",
    " * Mean: $\\frac{a}{a+b}$\n",
    " * Variance: $\\frac{ab}{(a+b)^2(a+b+1)}$\n",
    " * Example: useful in estimating success (If we repeat an experiment that we know can result in a success or failure, $n$ times independently, and get $s$ successes, then what is the probability that the next repetition will succeed?)\n",
    " * Uniform is actually a special case of Beta ($Uniform(0,1) = Beta(1,1)$)\n",
    " * There are two parameters that work together to determine if the distribution has a mode in the interior of unit interval and whether it is symmetrical\n",
    "* **Gamma$(k,\\theta)$** (PDF):\n",
    " ![gamma](https://upload.wikimedia.org/wikipedia/commons/thumb/e/e6/Gamma_distribution_pdf.svg/650px-Gamma_distribution_pdf.svg.png)\n",
    " * Example: time until $n$ events in a processs with no memory (constant, you don't have any effect on the event e.g. even if you wait 10 minutes already, train is not likely to arrive any sooner than it was going to 10 minutes ago)\n",
    " * Other Examples: Time it takes to see 5 trains come by\n",
    " * Gamma is the sum of $k$ Exponentials\n",
    "* **Chi-square $\\chi^2(k)$** (PDF):\n",
    " ![chisquare](https://upload.wikimedia.org/wikipedia/commons/thumb/3/35/Chi-square_pdf.svg/642px-Chi-square_pdf.svg.png)\n",
    " * **Chi-square** is sum of squares of $k$ independent Gaussian random variables\n",
    " * $k$ = Degrees of freedom\n",
    " * Chi-squared distribution is a special case of the Gamma distribution\n",
    " * Widely used in inferential statistics (e.g. hypothesis testing or in construction of confidence intervals)\n",
    " * Testing hypotheses using a normal distribution is well understood and relatively easy. The simplest chi-squared distribution is the square of a standard normal distribution. So wherever a normal distribution could be used for a hypothesis test, a chi-squared distribution could be used\n",
    " * Example: useful for Goodness of Fit tests\n",
    "* **F-Distribution** (PDF):\n",
    " ![fdist](https://upload.wikimedia.org/wikipedia/commons/thumb/7/74/F-distribution_pdf.svg/650px-F-distribution_pdf.svg.png)\n",
    " * **F-distribution** is the ratio of two normalized chi-squared distributed random variables ($d_1$ and $d_2$)\n",
    " * Example: useful for null distribution of a test statistic, **an**alysis **o**f **va**riance (ANOVA) or $F$-test"
   ]
  },
  {
   "cell_type": "code",
   "execution_count": 103,
   "metadata": {
    "collapsed": false
   },
   "outputs": [
    {
     "name": "stdout",
     "output_type": "stream",
     "text": [
      "380\n",
      "380\n"
     ]
    }
   ],
   "source": [
    "# permutations (order does matter)\n",
    "# on a baseball team of 20 players, how many different batting orders are there?\n",
    "from itertools import permutations\n",
    "print len(list(permutations(\"ABCDEFGHIJKLMNOPQRST\",2)))\n",
    "\n",
    "from math import factorial\n",
    "def perm(n, k):\n",
    "    return factorial(n) / factorial(n-k)\n",
    "print int(perm(20,2))"
   ]
  },
  {
   "cell_type": "code",
   "execution_count": 106,
   "metadata": {
    "collapsed": false,
    "scrolled": true
   },
   "outputs": [
    {
     "name": "stdout",
     "output_type": "stream",
     "text": [
      "# of different pairs for 4 students: 6\n",
      "276\n",
      "276\n"
     ]
    }
   ],
   "source": [
    "# how many different pairs are there for afternoon sprints with 24 students? (order doesn't matter / combinations)\n",
    "# 1-2 and 2-1 is the same\n",
    "# simplify: how many different pairs for 4 students\n",
    "# 1-2, 1-3, 1-4, 2-3, 2-4, 3-4 = 6 possibilities\n",
    "print \"# of different pairs for 4 students:\", comb(4,2)\n",
    "\n",
    "from itertools import combinations\n",
    "spair = list(combinations(\"ABCDEFGHIJKLMNOPQRSTUVXY\",2))\n",
    "print len(spair)\n",
    "\n",
    "from math import factorial\n",
    "def comb(n, k):\n",
    "    return factorial(n) / (factorial(k) * factorial(n-k))\n",
    "print int(comb(24,2))"
   ]
  },
  {
   "cell_type": "code",
   "execution_count": 100,
   "metadata": {
    "collapsed": false
   },
   "outputs": [
    {
     "name": "stdout",
     "output_type": "stream",
     "text": [
      "probability of no repeated digits for 4 digit PIN: 0.504\n",
      "factorial method 0.504\n"
     ]
    }
   ],
   "source": [
    "# Examples: Probability using Permutations (order matters) and Combinations (order doesn't matter)\n",
    "# A 4 digit PIN is selected. What is the probability that there are no repeated digits?\n",
    "# Digits 0-9 (10 nums total)\n",
    "# want to always draw a different digit to make sure there is no repeated digit (10 * 9 * 8 * 7)\n",
    "# repeated digits: 0,0,0,0 or 1,1,1,1 or 2,2,3,5\n",
    "# take the 1- probability of repeated digits / total possibilities \n",
    "# 10*10*10*10 = 10**4\n",
    "print \"probability of no repeated digits for 4 digit PIN:\", perm(10,4)/(10.**4)\n",
    "print \"factorial method\", (10 * 9 * 8 * 7)/(10.**4)\n",
    "# perm(10,1) = [0,1,2,3,4,5,6,7,8,9]\n",
    "# perm(10,2) = [(0,0),(0,1),(0,2),...,(9,9)]\n",
    "# perm(10,4) = [(0,0,0,0),(0,0,0,1),...,(9,9,9,9)]"
   ]
  },
  {
   "cell_type": "code",
   "execution_count": 105,
   "metadata": {
    "collapsed": false,
    "scrolled": true
   },
   "outputs": [
    {
     "name": "stdout",
     "output_type": "stream",
     "text": [
      "3628800\n",
      "3628800\n"
     ]
    }
   ],
   "source": [
    "# if there are 10 lottery balls and we want to draw them all, how many possible orderings are there?\n",
    "# [1,2,3,4,5,6,7,8,9,10]\n",
    "# 10 * 9 * 8 * 7 * 6 ... * 1 = factorial(10)\n",
    "print factorial(10)\n",
    "print perm(10,10)"
   ]
  },
  {
   "cell_type": "code",
   "execution_count": 111,
   "metadata": {
    "collapsed": false
   },
   "outputs": [
    {
     "name": "stdout",
     "output_type": "stream",
     "text": [
      "probability of drawing two reds: 0.109090909091\n",
      "prob 1st red, 2nd blue: 0.0727272727273\n",
      "prob 1st blue, 2nd red: 0.0727272727273\n",
      "prob that one is red and other is blue: 0.145454545455\n"
     ]
    }
   ],
   "source": [
    "# Two marbles are drawn, without replacement, from an urn containing 4 red marbles, 5 white marbles, and 2 blue marbles. Determine the probability that:\n",
    "# [R,R,R,R,W,W,W,W,W,B,B] -> draw 2 without replacement\n",
    "# Total marbles = 11\n",
    "# R = 4 / Total marbles (in the bag at the time)\n",
    "# W = 5 / Total marbles (in the bag at the time)\n",
    "# B = 2 / Total marbles (in the bag at the time)\n",
    "# model hypergeometric distribution\n",
    "\n",
    "# a. Both are red. P(R and R)\n",
    "print \"probability of drawing two reds:\", 4./11 * 3./10\n",
    "# b. The first marble drawn is red, and the second is blue. P(R and B)\n",
    "print \"prob 1st red, 2nd blue:\", 4./11 * 2./10\n",
    "# c. The first marble drawn is blue, and the second is red. P(B and R)\n",
    "print \"prob 1st blue, 2nd red:\", 2./11 * 4./10\n",
    "# d. One of the marbles is red and the other is blue. P(R or B) = P(R and B) + P(B and R)\n",
    "# what is the probability that is the first red, second blue + second blue, first red\n",
    "print \"prob that one is red and other is blue:\", 4./11 * 2./10 + 2./11 * 4./10"
   ]
  },
  {
   "cell_type": "code",
   "execution_count": 117,
   "metadata": {
    "collapsed": false
   },
   "outputs": [
    {
     "name": "stdout",
     "output_type": "stream",
     "text": [
      "both are blue: 0.171428571429\n",
      "first is blue, second is green: 0.257142857143\n",
      "all three green: 0.165413533835\n",
      "at least one is green: 0.834586466165\n"
     ]
    }
   ],
   "source": [
    "# A jar consists of 21 sweets. 12 are green and 9 are blue. William picked two sweets at random.\n",
    "#[Gx12, 9xB] -> draw 2 without replacement\n",
    "\n",
    "# Find the probability that \n",
    "# a) Both sweets are blue. P(B and B)\n",
    "print \"both are blue:\", 9./21 * 8./20\n",
    "# b) One sweet is blue and one sweet is green. are you saying blue or green? or are you saying blue then green?\n",
    "print \"first is blue, second is green:\", 9./21 * 12./20\n",
    "# William randomly took a third sweet. Find the probability that: (draw 3 without replacement)\n",
    "# c) All three sweets are green? P(G and G and G)\n",
    "print \"all three green:\", 12./21 * 11./20 * 10./19\n",
    "# d) At least one of the sweet is blue? 1 - P(no blue) = P(1 blue) + P(2 blue) + P(3 blue) = P(at least one blue)\n",
    "# P(no blue) = P(G and G and G) = 0.165413533835\n",
    "print \"at least one is green:\", 1 - (12./21 * 11./20 * 10./19)"
   ]
  },
  {
   "cell_type": "code",
   "execution_count": null,
   "metadata": {
    "collapsed": true
   },
   "outputs": [],
   "source": [
    "# A bag contains 3 white balls, 3 black balls & 2 red balls. One by one three balls are drawn out without replacement\n",
    "# What is the probability that the third ball is red?\n",
    "# [WWWBBBRR]\n",
    "# P(_ _ R) = P(_RR) + P(R_R) + P(__R)\n",
    "# P(_RR) = P(BRR) + P(WRR)\n",
    "# P(RR_) = P(RRW) + P(RRB)\n",
    "# P(R_R) = P(RWR) + P(RBR)"
   ]
  },
  {
   "cell_type": "code",
   "execution_count": 118,
   "metadata": {
    "collapsed": false
   },
   "outputs": [
    {
     "name": "stdout",
     "output_type": "stream",
     "text": [
      "prob of orange and two apples: 0.1\n"
     ]
    }
   ],
   "source": [
    "# Given is a basket of fruits containing 4 oranges, 5 apples and 1 pears. We pick three fruits with replacement from the basket. \n",
    "# Find the probability of getting an orange and two apples.\n",
    "# [OOOO AAAAA P]\n",
    "print \"prob of orange and two apples:\", 4./10 * 5./10 * 5./10"
   ]
  },
  {
   "cell_type": "code",
   "execution_count": 24,
   "metadata": {
    "collapsed": false
   },
   "outputs": [
    {
     "name": "stdout",
     "output_type": "stream",
     "text": [
      "expected value: 3.5\n",
      "uniform expectation: 3.5\n",
      "variance: 2.91666666667\n",
      "uniform variance: 2.91666666667\n"
     ]
    }
   ],
   "source": [
    "# Expectation, Variance, Different Distributions\n",
    "# expected value of a die\n",
    "# expectation - it is the sum of all possible values of the random values multiplied by its probability\n",
    "# a fair die has equal chance of rolling on all six sides so each roll has probability of of 1/6\n",
    "# discrete uniform distribution: expectation = (a+b)/2, O = {1,2,3,4,5,6}\n",
    "p = 1/6.\n",
    "E_X = sum([p*(n+1) for n in xrange(6)])\n",
    "print \"expected value:\", E_X\n",
    "a = 1\n",
    "b = 6\n",
    "print \"uniform expectation:\", (a+b)/2.\n",
    "# get the variance of a die\n",
    "# variance is the sum of the squared of all possible values of random variable minus the expected value (mean) multiplied by its probability: Var(X) = E[(X-E[X])^2] = sum of (x-u^2)*p\n",
    "print \"variance:\", sum([(((n+1)-E_X)**2) * p for n in xrange(6)])\n",
    "print \"uniform variance:\", ((b-a+1)**2 -1) / 12."
   ]
  },
  {
   "cell_type": "code",
   "execution_count": 30,
   "metadata": {
    "collapsed": false
   },
   "outputs": [
    {
     "name": "stdout",
     "output_type": "stream",
     "text": [
      "expected value: 0.5\n",
      "bernoulli expectation: 0.5\n",
      "variance: 0.25\n",
      "bernoulli variance: 0.25\n"
     ]
    }
   ],
   "source": [
    "# single coin flip turns out to be heads or not (1 or 0), O = {1,0}\n",
    "# P(success) or P(failure) which models the bernoulli trials or bernoulli distribution\n",
    "# expectation of bernoulli: p\n",
    "p = 1/2.\n",
    "E_X = sum([p*(n) for n in [1,0]])\n",
    "print \"expected value:\", E_X\n",
    "print \"bernoulli expectation:\", p\n",
    "# get the variance of a coin flip that is heads\n",
    "# variance of bernoulli: p(1-p)\n",
    "print \"variance:\", sum([(((n)-E_X)**2) * p for n in [1,0]])\n",
    "print \"bernoulli variance:\", p*(1-p)"
   ]
  },
  {
   "cell_type": "code",
   "execution_count": 80,
   "metadata": {
    "collapsed": false,
    "scrolled": true
   },
   "outputs": [
    {
     "name": "stdout",
     "output_type": "stream",
     "text": [
      "probability of 0 heads in 2 coin flips: 0.25\n",
      "probability of 1 heads in 2 coin flips: 0.5\n",
      "probability of 2 heads in 2 coin flips: 0.25\n",
      "expected value: 1.0\n",
      "binomial expectation: 1.0\n",
      "variance: 0.5\n",
      "binomial variance: 0.5\n"
     ]
    }
   ],
   "source": [
    "from math import factorial\n",
    "# number of coin flips out of 2 (or n) that turn out of to be heads\n",
    "# models the binomial distribution (P(X=k)), expectation: np\n",
    "# {0,0} = zero heads = 1/4\n",
    "# {1,0} = one head = 1/4\n",
    "# {0,1} = one head = 1/4\n",
    "# {1,1} = two heads = 1/4\n",
    "# O = {(0,0),(1,0),(0,1),(1,1)}\n",
    "n = 2\n",
    "p = .5\n",
    "for k in xrange(n+1):\n",
    "    c = factorial(n) / (factorial(k)*factorial(n-k))\n",
    "    print \"probability of {k} heads in {n} coin flips:\".format(k=k,n=n), c * p**k * (1-p)**(n-k)\n",
    "# get the expectation of number of coins out of 2 that turn out to be heads\n",
    "E_X = 0*.25 + 1*.5 + 2*.25\n",
    "print \"expected value:\", E_X\n",
    "print \"binomial expectation:\", n*p\n",
    "# get variance, variance: np(1-p)\n",
    "print \"variance:\", ((0-E_X)**2) * .25 + ((1-E_X)**2) * .5 + ((2-E_X)**2) * .25\n",
    "print \"binomial variance:\", n*p*(1-p)"
   ]
  },
  {
   "cell_type": "code",
   "execution_count": 37,
   "metadata": {
    "collapsed": false
   },
   "outputs": [
    {
     "name": "stdout",
     "output_type": "stream",
     "text": [
      "expected value: 2.0\n",
      "geometric expectation: 2.0\n",
      "variance: 2.0\n",
      "geometric variance: 2.0\n"
     ]
    }
   ],
   "source": [
    "# number of trials until coin flip turns out to be heads?\n",
    "# how many trials does it take until a coin flip is heads?\n",
    "# this models a geometric distribution, expectation: 1/p\n",
    "#{1} = 1\n",
    "#{0,1} = 2\n",
    "#{0,0,1} = 3\n",
    "p = .5\n",
    "p1 = .5**1\n",
    "p2 = .5**2\n",
    "p3 = .5**3\n",
    "E_X = sum([(.5**(n+1))*(n+1) for n in xrange(100)])\n",
    "print \"expected value:\", E_X\n",
    "print \"geometric expectation:\", 1/(.5)\n",
    "# get the variance of the number of trials it takes until you get a heads from a coin flip\n",
    "# geometric variance: 1-p/p^2\n",
    "print \"variance:\", sum([(((n+1)-E_X)**2) * (.5**(n+1)) for n in xrange(100)])\n",
    "print \"geometric variance:\", (1-p)/(p**2)"
   ]
  },
  {
   "cell_type": "code",
   "execution_count": 54,
   "metadata": {
    "collapsed": false
   },
   "outputs": [],
   "source": [
    "# number of taxis passing a street corner in a given hour (on avg. 10/hr)\n",
    "# 1 hr = 10 taxis\n",
    "# 10 hr = 100 taxis\n",
    "# 100 hr = 1000 taxis\n",
    "# {10,20,30,...,1000}\n",
    "# what is the average waiting time for a person to see a taxi?\n",
    "# models poisson distribution\n",
    "\n",
    "# A taxi stand has customers arriving at a rate of 5 per hour. Taxis arrive at a rate of 4 per hour. Make reasonable assumptions as needed to answer the following questions.\n",
    "\n",
    "# a) What is the probability that a customer will arrive at a time when there are no taxis waiting?\n",
    "# customers: {5, 10, 15, ..., 500}\n",
    "# taxis: {4, 8, 12, ..., 400}\n",
    "# each customer wants to have their own taxi, so always one customer waiting\n",
    "# p=1, since there is not enough taxis for each customer per hour\n",
    "\n",
    "# b) If a customer arrives when there are no taxis waiting, how long will this customer have to wait, on average, until a taxi arrives?\n",
    "# just this one customer, there will be 4 other customers waiting with a total of 5 customers so you will wait 1/5 of an hour\n",
    "# 1/5 of an hour or 12 minutes."
   ]
  },
  {
   "cell_type": "code",
   "execution_count": 52,
   "metadata": {
    "collapsed": false
   },
   "outputs": [
    {
     "data": {
      "text/plain": [
       "[<matplotlib.lines.Line2D at 0x1a175e7c10>]"
      ]
     },
     "execution_count": 52,
     "metadata": {},
     "output_type": "execute_result"
    },
    {
     "data": {
      "image/png": "[encoded data removed]",
      "text/plain": [
       "<matplotlib.figure.Figure at 0x1a174a5f10>"
      ]
     },
     "metadata": {},
     "output_type": "display_data"
    }
   ],
   "source": [
    "from scipy.stats import poisson\n",
    "import matplotlib.pyplot as plt\n",
    "%matplotlib inline\n",
    "plt.plot(poisson.pmf(xrange(100*10), 10))"
   ]
  },
  {
   "cell_type": "code",
   "execution_count": null,
   "metadata": {
    "collapsed": true
   },
   "outputs": [],
   "source": []
  }
 ],
 "metadata": {
  "anaconda-cloud": {},
  "kernelspec": {
   "display_name": "Python [Root]",
   "language": "python",
   "name": "Python [Root]"
  },
  "language_info": {
   "codemirror_mode": {
    "name": "ipython",
    "version": 2
   },
   "file_extension": ".py",
   "mimetype": "text/x-python",
   "name": "python",
   "nbconvert_exporter": "python",
   "pygments_lexer": "ipython2",
   "version": "2.7.13"
  }
 },
 "nbformat": 4,
 "nbformat_minor": 0
}
